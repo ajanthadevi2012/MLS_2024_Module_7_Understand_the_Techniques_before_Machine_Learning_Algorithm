{
 "cells": [
  {
   "cell_type": "markdown",
   "id": "05c7c746",
   "metadata": {},
   "source": [
    "# Cross-validation \n",
    "![types](cross.jpg)"
   ]
  },
  {
   "cell_type": "code",
   "execution_count": null,
   "id": "75be9051",
   "metadata": {},
   "outputs": [],
   "source": []
  },
  {
   "cell_type": "markdown",
   "id": "fdcab1bf",
   "metadata": {},
   "source": [
    "# Hold-out cross-validation\n",
    "![types](hold.jpg)"
   ]
  },
  {
   "cell_type": "code",
   "execution_count": 1,
   "id": "7f8b2852",
   "metadata": {},
   "outputs": [],
   "source": [
    "import numpy as np\n",
    "from sklearn.model_selection import train_test_split\n",
    "\n",
    "X, y = np.arange(10).reshape((5, 2)), range(5)\n",
    "X_train, X_test, y_train, y_test = train_test_split(X, y,\n",
    "                                                    test_size=0.2,\n",
    "                                                    random_state=111)"
   ]
  },
  {
   "cell_type": "markdown",
   "id": "3d0c7746",
   "metadata": {},
   "source": [
    "# k-Fold cross-validation\n",
    "![types](K-Fold.png)"
   ]
  },
  {
   "cell_type": "code",
   "execution_count": 2,
   "id": "a38bc798",
   "metadata": {},
   "outputs": [
    {
     "name": "stdout",
     "output_type": "stream",
     "text": [
      "TRAIN: [2 3] TEST: [0 1]\n",
      "TRAIN: [0 1] TEST: [2 3]\n"
     ]
    }
   ],
   "source": [
    "import numpy as np\n",
    "from sklearn.model_selection import KFold\n",
    "\n",
    "X = np.array([[1, 2], [3, 4], [1, 2], [3, 4]])\n",
    "y = np.array([1, 2, 3, 4])\n",
    "kf = KFold(n_splits=2)\n",
    "\n",
    "for train_index, test_index in kf.split(X):\n",
    "    print(\"TRAIN:\", train_index, \"TEST:\", test_index)\n",
    "    X_train, X_test = X[train_index], X[test_index]\n",
    "    y_train, y_test = y[train_index], y[test_index]"
   ]
  },
  {
   "cell_type": "markdown",
   "id": "71b409ff",
   "metadata": {},
   "source": [
    "# Leave-one-out cross-validation\n",
    "\n",
    "![types](LOOCV.png)"
   ]
  },
  {
   "cell_type": "code",
   "execution_count": 3,
   "id": "66538d00",
   "metadata": {},
   "outputs": [
    {
     "name": "stdout",
     "output_type": "stream",
     "text": [
      "TRAIN: [1] TEST: [0]\n",
      "TRAIN: [0] TEST: [1]\n"
     ]
    }
   ],
   "source": [
    "import numpy as np\n",
    "from sklearn.model_selection import LeaveOneOut\n",
    "\n",
    "X = np.array([[1, 2], [3, 4]])\n",
    "y = np.array([1, 2])\n",
    "loo = LeaveOneOut()\n",
    "\n",
    "for train_index, test_index in loo.split(X):\n",
    "    print(\"TRAIN:\", train_index, \"TEST:\", test_index)\n",
    "    X_train, X_test = X[train_index], X[test_index]\n",
    "    y_train, y_test = y[train_index], y[test_index]"
   ]
  },
  {
   "cell_type": "markdown",
   "id": "565b36e4",
   "metadata": {},
   "source": [
    "# Leave-p-out cross-validation\n",
    "\n",
    "![types](LPOCV.jpg)"
   ]
  },
  {
   "cell_type": "code",
   "execution_count": 4,
   "id": "912e0de9",
   "metadata": {},
   "outputs": [
    {
     "name": "stdout",
     "output_type": "stream",
     "text": [
      "TRAIN: [2 3] TEST: [0 1]\n",
      "TRAIN: [1 3] TEST: [0 2]\n",
      "TRAIN: [1 2] TEST: [0 3]\n",
      "TRAIN: [0 3] TEST: [1 2]\n",
      "TRAIN: [0 2] TEST: [1 3]\n",
      "TRAIN: [0 1] TEST: [2 3]\n"
     ]
    }
   ],
   "source": [
    "import numpy as np\n",
    "from sklearn.model_selection import LeavePOut\n",
    "\n",
    "X = np.array([[1, 2], [3, 4], [5, 6], [7, 8]])\n",
    "y = np.array([1, 2, 3, 4])\n",
    "lpo = LeavePOut(2)\n",
    "\n",
    "for train_index, test_index in lpo.split(X):\n",
    "    print(\"TRAIN:\", train_index, \"TEST:\", test_index)\n",
    "    X_train, X_test = X[train_index], X[test_index]\n",
    "    y_train, y_test = y[train_index], y[test_index]"
   ]
  },
  {
   "cell_type": "markdown",
   "id": "744c317e",
   "metadata": {},
   "source": [
    "# Stratified k-Fold cross-validation\n",
    "![types](Stratified-K-Fold.png)"
   ]
  },
  {
   "cell_type": "code",
   "execution_count": 5,
   "id": "35b91c9b",
   "metadata": {},
   "outputs": [
    {
     "name": "stdout",
     "output_type": "stream",
     "text": [
      "TRAIN: [1 3] TEST: [0 2]\n",
      "TRAIN: [0 2] TEST: [1 3]\n"
     ]
    }
   ],
   "source": [
    "import numpy as np\n",
    "from sklearn.model_selection import StratifiedKFold\n",
    "\n",
    "X = np.array([[1, 2], [3, 4], [1, 2], [3, 4]])\n",
    "y = np.array([0, 0, 1, 1])\n",
    "skf = StratifiedKFold(n_splits=2)\n",
    "\n",
    "for train_index, test_index in skf.split(X, y):\n",
    "    print(\"TRAIN:\", train_index, \"TEST:\", test_index)\n",
    "    X_train, X_test = X[train_index], X[test_index]\n",
    "    y_train, y_test = y[train_index], y[test_index]"
   ]
  },
  {
   "cell_type": "markdown",
   "id": "88fee057",
   "metadata": {},
   "source": [
    "# Repeated k-Fold cross-validation"
   ]
  },
  {
   "cell_type": "code",
   "execution_count": 6,
   "id": "cfd29c71",
   "metadata": {},
   "outputs": [
    {
     "name": "stdout",
     "output_type": "stream",
     "text": [
      "TRAIN: [0 2] TEST: [1 3]\n",
      "TRAIN: [1 3] TEST: [0 2]\n",
      "TRAIN: [0 2] TEST: [1 3]\n",
      "TRAIN: [1 3] TEST: [0 2]\n"
     ]
    }
   ],
   "source": [
    "import numpy as np\n",
    "from sklearn.model_selection import RepeatedKFold\n",
    "\n",
    "X = np.array([[1, 2], [3, 4], [1, 2], [3, 4]])\n",
    "y = np.array([0, 0, 1, 1])\n",
    "rkf = RepeatedKFold(n_splits=2, n_repeats=2, random_state=42)\n",
    "\n",
    "for train_index, test_index in rkf.split(X):\n",
    "    print(\"TRAIN:\", train_index, \"TEST:\", test_index)\n",
    "    X_train, X_test = X[train_index], X[test_index]\n",
    "    y_train, y_test = y[train_index], y[test_index]"
   ]
  },
  {
   "cell_type": "markdown",
   "id": "45e8bddd",
   "metadata": {},
   "source": [
    "# Nested k-Fold"
   ]
  },
  {
   "cell_type": "code",
   "execution_count": 7,
   "id": "d0e4616b",
   "metadata": {},
   "outputs": [
    {
     "name": "stdout",
     "output_type": "stream",
     "text": [
      ">acc=0.900, est=0.932, cfg={'max_features': 4, 'n_estimators': 100}\n",
      ">acc=0.940, est=0.924, cfg={'max_features': 4, 'n_estimators': 500}\n",
      ">acc=0.930, est=0.929, cfg={'max_features': 4, 'n_estimators': 500}\n",
      ">acc=0.930, est=0.927, cfg={'max_features': 6, 'n_estimators': 100}\n",
      ">acc=0.920, est=0.927, cfg={'max_features': 4, 'n_estimators': 100}\n",
      ">acc=0.950, est=0.927, cfg={'max_features': 4, 'n_estimators': 500}\n",
      ">acc=0.910, est=0.918, cfg={'max_features': 2, 'n_estimators': 100}\n",
      ">acc=0.930, est=0.924, cfg={'max_features': 6, 'n_estimators': 500}\n",
      ">acc=0.960, est=0.926, cfg={'max_features': 2, 'n_estimators': 500}\n",
      ">acc=0.900, est=0.937, cfg={'max_features': 4, 'n_estimators': 500}\n",
      "Accuracy: 0.927 (0.019)\n"
     ]
    }
   ],
   "source": [
    "# manual nested cross-validation for random forest on a classification dataset\n",
    "from numpy import mean\n",
    "from numpy import std\n",
    "from sklearn.datasets import make_classification\n",
    "from sklearn.model_selection import KFold\n",
    "from sklearn.model_selection import GridSearchCV\n",
    "from sklearn.ensemble import RandomForestClassifier\n",
    "from sklearn.metrics import accuracy_score\n",
    "# create dataset\n",
    "X, y = make_classification(n_samples=1000, n_features=20, random_state=1, n_informative=10, n_redundant=10)\n",
    "# configure the cross-validation procedure\n",
    "cv_outer = KFold(n_splits=10, shuffle=True, random_state=1)\n",
    "# enumerate splits\n",
    "outer_results = list()\n",
    "for train_ix, test_ix in cv_outer.split(X):\n",
    "\t# split data\n",
    "\tX_train, X_test = X[train_ix, :], X[test_ix, :]\n",
    "\ty_train, y_test = y[train_ix], y[test_ix]\n",
    "\t# configure the cross-validation procedure\n",
    "\tcv_inner = KFold(n_splits=3, shuffle=True, random_state=1)\n",
    "\t# define the model\n",
    "\tmodel = RandomForestClassifier(random_state=1)\n",
    "\t# define search space\n",
    "\tspace = dict()\n",
    "\tspace['n_estimators'] = [10, 100, 500]\n",
    "\tspace['max_features'] = [2, 4, 6]\n",
    "\t# define search\n",
    "\tsearch = GridSearchCV(model, space, scoring='accuracy', cv=cv_inner, refit=True)\n",
    "\t# execute search\n",
    "\tresult = search.fit(X_train, y_train)\n",
    "\t# get the best performing model fit on the whole training set\n",
    "\tbest_model = result.best_estimator_\n",
    "\t# evaluate model on the hold out dataset\n",
    "\tyhat = best_model.predict(X_test)\n",
    "\t# evaluate the model\n",
    "\tacc = accuracy_score(y_test, yhat)\n",
    "\t# store the result\n",
    "\touter_results.append(acc)\n",
    "\t# report progress\n",
    "\tprint('>acc=%.3f, est=%.3f, cfg=%s' % (acc, result.best_score_, result.best_params_))\n",
    "# summarize the estimated performance of the model\n",
    "print('Accuracy: %.3f (%.3f)' % (mean(outer_results), std(outer_results)))"
   ]
  },
  {
   "cell_type": "code",
   "execution_count": null,
   "id": "ed1b37c1",
   "metadata": {},
   "outputs": [],
   "source": []
  }
 ],
 "metadata": {
  "kernelspec": {
   "display_name": "Python 3 (ipykernel)",
   "language": "python",
   "name": "python3"
  },
  "language_info": {
   "codemirror_mode": {
    "name": "ipython",
    "version": 3
   },
   "file_extension": ".py",
   "mimetype": "text/x-python",
   "name": "python",
   "nbconvert_exporter": "python",
   "pygments_lexer": "ipython3",
   "version": "3.9.7"
  }
 },
 "nbformat": 4,
 "nbformat_minor": 5
}
